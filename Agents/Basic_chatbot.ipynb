{
 "cells": [
  {
   "cell_type": "code",
   "execution_count": 11,
   "id": "6b9c75b5",
   "metadata": {},
   "outputs": [
    {
     "data": {
      "text/plain": [
       "True"
      ]
     },
     "execution_count": 11,
     "metadata": {},
     "output_type": "execute_result"
    }
   ],
   "source": [
    "from typing import TypedDict, List\n",
    "from langchain_core.messages import HumanMessage\n",
    "from langchain_google_genai import ChatGoogleGenerativeAI\n",
    "from langgraph.graph import StateGraph, START, END\n",
    "from dotenv import load_dotenv\n",
    "load_dotenv()"
   ]
  },
  {
   "cell_type": "code",
   "execution_count": 12,
   "id": "c74e141b",
   "metadata": {},
   "outputs": [],
   "source": [
    "class AgentState(TypedDict):\n",
    "    messages: List[HumanMessage]\n",
    "\n",
    "llm= ChatGoogleGenerativeAI(\n",
    "    model=\"gemini-1.5-flash\"\n",
    ")\n"
   ]
  },
  {
   "cell_type": "code",
   "execution_count": 18,
   "id": "c8d6b86d",
   "metadata": {},
   "outputs": [],
   "source": [
    "def process(state: AgentState):\n",
    "    while True:\n",
    "        user_input = input(\"You: \")\n",
    "        if user_input.lower() in [\"exit\", \"quit\"]:\n",
    "            print(\"Exiting the chatbot.\")\n",
    "            break\n",
    "        state['messages'].append(HumanMessage(content=user_input))\n",
    "        print(f\"user: {user_input}\")\n",
    "        response = llm.invoke(state['messages'])\n",
    "        print(f\"Bot: {response.content}\")\n",
    "        \n",
    "        state['messages'].append(HumanMessage(content=response.content))\n",
    "    return state"
   ]
  },
  {
   "cell_type": "code",
   "execution_count": null,
   "id": "39aa12c3",
   "metadata": {},
   "outputs": [],
   "source": [
    "\n",
    "graph.add_node('process',process)\n",
    "graph.add_edge(START, 'process')\n",
    "graph.add_edge('process', END)\n",
    "\n",
    "workflow= graph.compile()\n",
    "# workflow\n",
    "initial_state = AgentState(messages=[])\n",
    "workflow.invoke(initial_state)\n",
    "graph= StateGraph(AgentState)\n"
   ]
  }
 ],
 "metadata": {
  "kernelspec": {
   "display_name": "myenv",
   "language": "python",
   "name": "python3"
  },
  "language_info": {
   "codemirror_mode": {
    "name": "ipython",
    "version": 3
   },
   "file_extension": ".py",
   "mimetype": "text/x-python",
   "name": "python",
   "nbconvert_exporter": "python",
   "pygments_lexer": "ipython3",
   "version": "3.12.4"
  }
 },
 "nbformat": 4,
 "nbformat_minor": 5
}
