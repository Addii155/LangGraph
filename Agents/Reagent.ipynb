{
 "cells": [
  {
   "cell_type": "code",
   "execution_count": 2,
   "id": "b94a6e06",
   "metadata": {},
   "outputs": [
    {
     "ename": "ModuleNotFoundError",
     "evalue": "No module named 'langchain_google_community'",
     "output_type": "error",
     "traceback": [
      "\u001b[31m---------------------------------------------------------------------------\u001b[39m",
      "\u001b[31mModuleNotFoundError\u001b[39m                       Traceback (most recent call last)",
      "\u001b[36mCell\u001b[39m\u001b[36m \u001b[39m\u001b[32mIn[2]\u001b[39m\u001b[32m, line 2\u001b[39m\n\u001b[32m      1\u001b[39m \u001b[38;5;28;01mfrom\u001b[39;00m\u001b[38;5;250m \u001b[39m\u001b[34;01mlanggraph\u001b[39;00m\u001b[34;01m.\u001b[39;00m\u001b[34;01mprebuilt\u001b[39;00m\u001b[38;5;250m \u001b[39m\u001b[38;5;28;01mimport\u001b[39;00m create_react_agent\n\u001b[32m----> \u001b[39m\u001b[32m2\u001b[39m \u001b[38;5;28;01mfrom\u001b[39;00m\u001b[38;5;250m \u001b[39m\u001b[34;01mlangchain_google_community\u001b[39;00m\u001b[38;5;250m \u001b[39m\u001b[38;5;28;01mimport\u001b[39;00m GmailToolkit\n",
      "\u001b[31mModuleNotFoundError\u001b[39m: No module named 'langchain_google_community'"
     ]
    }
   ],
   "source": [
    "from langgraph.prebuilt import create_react_agent\n",
    "from langchain_google_community import GmailToolkit"
   ]
  },
  {
   "cell_type": "code",
   "execution_count": 3,
   "id": "d31f8981",
   "metadata": {},
   "outputs": [
    {
     "ename": "NameError",
     "evalue": "name 'GmailToolkit' is not defined",
     "output_type": "error",
     "traceback": [
      "\u001b[31m---------------------------------------------------------------------------\u001b[39m",
      "\u001b[31mNameError\u001b[39m                                 Traceback (most recent call last)",
      "\u001b[36mCell\u001b[39m\u001b[36m \u001b[39m\u001b[32mIn[3]\u001b[39m\u001b[32m, line 1\u001b[39m\n\u001b[32m----> \u001b[39m\u001b[32m1\u001b[39m tools = [\u001b[43mGmailToolkit\u001b[49m()] \u001b[38;5;66;03m# We are using the Inbuilt Gmail tool\u001b[39;00m\n\u001b[32m      2\u001b[39m llm = ChatOllama(model=\u001b[33m\"\u001b[39m\u001b[33mqwen2.5:latest\u001b[39m\u001b[33m\"\u001b[39m) \u001b[38;5;66;03m# Leveraging Ollama Models\u001b[39;00m\n\u001b[32m      3\u001b[39m agent = create_react_agent(\n\u001b[32m      4\u001b[39m     model = llm, \u001b[38;5;66;03m# Choice of the LLM\u001b[39;00m\n\u001b[32m      5\u001b[39m     tools = tools, \u001b[38;5;66;03m# Tools we want our LLM to have\u001b[39;00m\n\u001b[32m      6\u001b[39m     name = \u001b[33m\"\u001b[39m\u001b[33memail_agent\u001b[39m\u001b[33m\"\u001b[39m, \u001b[38;5;66;03m# Name of our agent\u001b[39;00m\n\u001b[32m      7\u001b[39m     prompt = \u001b[33m\"\u001b[39m\u001b[33mYou are my AI assistant that has access to certain tools. Use the tools to help me with my tasks.\u001b[39m\u001b[33m\"\u001b[39m, \u001b[38;5;66;03m# System Prompt\u001b[39;00m\n\u001b[32m      8\u001b[39m )\n",
      "\u001b[31mNameError\u001b[39m: name 'GmailToolkit' is not defined"
     ]
    }
   ],
   "source": [
    "tools = [GmailToolkit()] # We are using the Inbuilt Gmail tool\n",
    "llm = ChatOllama(model=\"qwen2.5:latest\") # Leveraging Ollama Models\n",
    "agent = create_react_agent(\n",
    "    model = llm, # Choice of the LLM\n",
    "    tools = tools, # Tools we want our LLM to have\n",
    "    name = \"email_agent\", # Name of our agent\n",
    "    prompt = \"You are my AI assistant that has access to certain tools. Use the tools to help me with my tasks.\", # System Prompt\n",
    ")"
   ]
  },
  {
   "cell_type": "code",
   "execution_count": null,
   "id": "2f92d4f6",
   "metadata": {},
   "outputs": [],
   "source": [
    "@tool\n",
    "def send_email(email_address: str, email_content: str) -> str:\n",
    "    \"\"\"\n",
    "Sends an email to a specified recipient with the given content.\n",
    "Args:\n",
    "email_address (str): The recipient's email address (e.g., 'example@example.com')\n",
    "email_content (str): The body of the email message to be sent\n",
    "Returns:\n",
    "str: A confirmation message indicating success or failure\n",
    "Example:\n",
    "        >>> send_email('john.doe@example.com', 'Hello John, just checking in!')\n",
    "'Email successfully sent to john.doe@example.com'\n",
    "\"\"\"\n",
    "    # Tool Logic goes here\n",
    "    return \"Done!\""
   ]
  }
 ],
 "metadata": {
  "kernelspec": {
   "display_name": "myenv",
   "language": "python",
   "name": "python3"
  },
  "language_info": {
   "codemirror_mode": {
    "name": "ipython",
    "version": 3
   },
   "file_extension": ".py",
   "mimetype": "text/x-python",
   "name": "python",
   "nbconvert_exporter": "python",
   "pygments_lexer": "ipython3",
   "version": "3.12.4"
  }
 },
 "nbformat": 4,
 "nbformat_minor": 5
}
