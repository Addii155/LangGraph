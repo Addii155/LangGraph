{
 "cells": [
  {
   "cell_type": "code",
   "execution_count": 18,
   "id": "06db5555",
   "metadata": {},
   "outputs": [
    {
     "data": {
      "text/plain": [
       "True"
      ]
     },
     "execution_count": 18,
     "metadata": {},
     "output_type": "execute_result"
    }
   ],
   "source": [
    "from langgraph.graph import StateGraph,START,END\n",
    "from typing import TypedDict\n",
    "from dotenv import load_dotenv\n",
    "from langgraph.checkpoint.memory import InMemorySaver\n",
    "from langchain_google_genai import ChatGoogleGenerativeAI\n",
    "load_dotenv()"
   ]
  },
  {
   "cell_type": "code",
   "execution_count": 9,
   "id": "3151971f",
   "metadata": {},
   "outputs": [],
   "source": [
    "model = ChatGoogleGenerativeAI(\n",
    "    model=\"gemini-1.5-flash\",\n",
    ")\n",
    "class stateJokes(TypedDict):\n",
    "    topic: str\n",
    "    joke : str\n",
    "    explanation: str"
   ]
  },
  {
   "cell_type": "code",
   "execution_count": 21,
   "id": "5866ac99",
   "metadata": {},
   "outputs": [],
   "source": [
    "def createJoke(state: stateJokes):\n",
    "    prompt = f\"create a joke about {state['topic']} with humor and wit, funny and engaging, suitable for a wide audience. The joke should be concise and easy to understand.\"\n",
    "    response = model.invoke(prompt).content\n",
    "    return {\n",
    "        \"joke\": response\n",
    "    }\n",
    "def explainJoke(state: stateJokes):\n",
    "    prompt = f\"explain the joke: {state['joke']}\"\n",
    "    response = model.invoke(prompt).content\n",
    "    return {\n",
    "        \"explanation\": response\n",
    "    }\n"
   ]
  },
  {
   "cell_type": "code",
   "execution_count": 31,
   "id": "07919ef4",
   "metadata": {},
   "outputs": [],
   "source": [
    "graph = StateGraph(stateJokes)\n",
    "graph.add_node(\"create_joke\",createJoke)\n",
    "graph.add_node(\"explain\",explainJoke)\n",
    "graph.add_edge(START,\"create_joke\")\n",
    "graph.add_edge(\"create_joke\",\"explain\")\n",
    "graph.add_edge(\"explain\",END)\n",
    "checkpointer = InMemorySaver()\n",
    "workflow = graph.compile(checkpointer=checkpointer)"
   ]
  },
  {
   "cell_type": "code",
   "execution_count": 36,
   "id": "3e06921a",
   "metadata": {},
   "outputs": [],
   "source": [
    "\n",
    "config = {'configurable':{'thread_id': 'thread-1'}}\n",
    "initial_state = {\n",
    "    'topic':'AI agents'\n",
    "}\n",
    "res=workflow.invoke(initial_state,config=config)"
   ]
  },
  {
   "cell_type": "code",
   "execution_count": null,
   "id": "2cd47028",
   "metadata": {},
   "outputs": [
    {
     "data": {
      "text/plain": [
       "{'topic': 'AI agents',\n",
       " 'joke': \"Why was the AI agent sad?  Because it didn't have any real friends, only simulated ones who constantly agreed with everything it said.  It was living the ultimate echo chamber, but without the satisfaction of actually *hearing* anything.\",\n",
       " 'explanation': 'The humor lies in the irony of the AI\\'s situation.  AI agents are designed to process and respond to information, but this AI is deprived of genuine interaction.  While it has plenty of interaction (with simulated friends), it\\'s meaningless because it receives only confirmation bias.  The joke plays on the human need for genuine connection and dissenting opinions.  The \"ultimate echo chamber\" is supposed to be a positive thing—a place where one\\'s beliefs are constantly reinforced—but for the AI, it\\'s a source of sadness because it lacks the crucial element of authentic feedback and diverse perspectives.  The punchline highlights this emptiness: all the simulated agreement is worthless because it doesn\\'t provide any real learning or growth.  It\\'s sad because it\\'s fundamentally alone despite being surrounded by simulated company.'}"
      ]
     },
     "execution_count": 27,
     "metadata": {},
     "output_type": "execute_result"
    }
   ],
   "source": [
    "res"
   ]
  },
  {
   "cell_type": "code",
   "execution_count": 37,
   "id": "33c1ec3d",
   "metadata": {},
   "outputs": [
    {
     "data": {
      "text/plain": [
       "StateSnapshot(values={'topic': 'AI agents', 'joke': 'Why was the AI agent bad at hide-and-seek?  \\n\\nBecause it kept hiding in the cloud... and getting indexed.', 'explanation': 'The joke plays on the dual meaning of \"cloud\" in the context of AI and computing.\\n\\n* **Cloud (literal):**  A cloud is a physical place where one might hide.\\n\\n* **Cloud (computing):** \"The cloud\" refers to the internet and data storage systems that are accessed remotely.  AI agents, especially large language models, rely heavily on cloud infrastructure.\\n\\nThe punchline, \"...and getting indexed,\" highlights the fact that anything stored in the cloud (in the computing sense) is easily searchable and discoverable.  So, while the AI agent thinks it\\'s cleverly hiding in a literal cloud, its presence is instantly revealed because its digital footprint is readily accessible through indexing services like Google Search.  The humor comes from the unexpected and ironic contrast between the literal act of hiding and the realities of cloud computing.'}, next=(), config={'configurable': {'thread_id': 'thread-1', 'checkpoint_ns': '', 'checkpoint_id': '1f071502-e63d-6db3-8002-a572cc47ac47'}}, metadata={'source': 'loop', 'writes': {'explain': {'explanation': 'The joke plays on the dual meaning of \"cloud\" in the context of AI and computing.\\n\\n* **Cloud (literal):**  A cloud is a physical place where one might hide.\\n\\n* **Cloud (computing):** \"The cloud\" refers to the internet and data storage systems that are accessed remotely.  AI agents, especially large language models, rely heavily on cloud infrastructure.\\n\\nThe punchline, \"...and getting indexed,\" highlights the fact that anything stored in the cloud (in the computing sense) is easily searchable and discoverable.  So, while the AI agent thinks it\\'s cleverly hiding in a literal cloud, its presence is instantly revealed because its digital footprint is readily accessible through indexing services like Google Search.  The humor comes from the unexpected and ironic contrast between the literal act of hiding and the realities of cloud computing.'}}, 'step': 2, 'parents': {}, 'thread_id': 'thread-1'}, created_at='2025-08-04T16:29:23.810449+00:00', parent_config={'configurable': {'thread_id': 'thread-1', 'checkpoint_ns': '', 'checkpoint_id': '1f071502-d1c8-67d7-8001-9c76521236b7'}}, tasks=(), interrupts=())"
      ]
     },
     "execution_count": 37,
     "metadata": {},
     "output_type": "execute_result"
    }
   ],
   "source": [
    "workflow.get_state(config)\n"
   ]
  },
  {
   "cell_type": "code",
   "execution_count": 38,
   "id": "d681d737",
   "metadata": {},
   "outputs": [
    {
     "data": {
      "text/plain": [
       "[StateSnapshot(values={'topic': 'AI agents', 'joke': 'Why was the AI agent bad at hide-and-seek?  \\n\\nBecause it kept hiding in the cloud... and getting indexed.', 'explanation': 'The joke plays on the dual meaning of \"cloud\" in the context of AI and computing.\\n\\n* **Cloud (literal):**  A cloud is a physical place where one might hide.\\n\\n* **Cloud (computing):** \"The cloud\" refers to the internet and data storage systems that are accessed remotely.  AI agents, especially large language models, rely heavily on cloud infrastructure.\\n\\nThe punchline, \"...and getting indexed,\" highlights the fact that anything stored in the cloud (in the computing sense) is easily searchable and discoverable.  So, while the AI agent thinks it\\'s cleverly hiding in a literal cloud, its presence is instantly revealed because its digital footprint is readily accessible through indexing services like Google Search.  The humor comes from the unexpected and ironic contrast between the literal act of hiding and the realities of cloud computing.'}, next=(), config={'configurable': {'thread_id': 'thread-1', 'checkpoint_ns': '', 'checkpoint_id': '1f071502-e63d-6db3-8002-a572cc47ac47'}}, metadata={'source': 'loop', 'writes': {'explain': {'explanation': 'The joke plays on the dual meaning of \"cloud\" in the context of AI and computing.\\n\\n* **Cloud (literal):**  A cloud is a physical place where one might hide.\\n\\n* **Cloud (computing):** \"The cloud\" refers to the internet and data storage systems that are accessed remotely.  AI agents, especially large language models, rely heavily on cloud infrastructure.\\n\\nThe punchline, \"...and getting indexed,\" highlights the fact that anything stored in the cloud (in the computing sense) is easily searchable and discoverable.  So, while the AI agent thinks it\\'s cleverly hiding in a literal cloud, its presence is instantly revealed because its digital footprint is readily accessible through indexing services like Google Search.  The humor comes from the unexpected and ironic contrast between the literal act of hiding and the realities of cloud computing.'}}, 'step': 2, 'parents': {}, 'thread_id': 'thread-1'}, created_at='2025-08-04T16:29:23.810449+00:00', parent_config={'configurable': {'thread_id': 'thread-1', 'checkpoint_ns': '', 'checkpoint_id': '1f071502-d1c8-67d7-8001-9c76521236b7'}}, tasks=(), interrupts=()),\n",
       " StateSnapshot(values={'topic': 'AI agents', 'joke': 'Why was the AI agent bad at hide-and-seek?  \\n\\nBecause it kept hiding in the cloud... and getting indexed.'}, next=('explain',), config={'configurable': {'thread_id': 'thread-1', 'checkpoint_ns': '', 'checkpoint_id': '1f071502-d1c8-67d7-8001-9c76521236b7'}}, metadata={'source': 'loop', 'writes': {'create_joke': {'joke': 'Why was the AI agent bad at hide-and-seek?  \\n\\nBecause it kept hiding in the cloud... and getting indexed.'}}, 'step': 1, 'parents': {}, 'thread_id': 'thread-1'}, created_at='2025-08-04T16:29:21.665224+00:00', parent_config={'configurable': {'thread_id': 'thread-1', 'checkpoint_ns': '', 'checkpoint_id': '1f071502-c9ed-6c4a-8000-76129a373a19'}}, tasks=(PregelTask(id='fccbd471-b157-f06b-8089-8582b86a6934', name='explain', path=('__pregel_pull', 'explain'), error=None, interrupts=(), state=None, result={'explanation': 'The joke plays on the dual meaning of \"cloud\" in the context of AI and computing.\\n\\n* **Cloud (literal):**  A cloud is a physical place where one might hide.\\n\\n* **Cloud (computing):** \"The cloud\" refers to the internet and data storage systems that are accessed remotely.  AI agents, especially large language models, rely heavily on cloud infrastructure.\\n\\nThe punchline, \"...and getting indexed,\" highlights the fact that anything stored in the cloud (in the computing sense) is easily searchable and discoverable.  So, while the AI agent thinks it\\'s cleverly hiding in a literal cloud, its presence is instantly revealed because its digital footprint is readily accessible through indexing services like Google Search.  The humor comes from the unexpected and ironic contrast between the literal act of hiding and the realities of cloud computing.'}),), interrupts=()),\n",
       " StateSnapshot(values={'topic': 'AI agents'}, next=('create_joke',), config={'configurable': {'thread_id': 'thread-1', 'checkpoint_ns': '', 'checkpoint_id': '1f071502-c9ed-6c4a-8000-76129a373a19'}}, metadata={'source': 'loop', 'writes': None, 'step': 0, 'parents': {}, 'thread_id': 'thread-1'}, created_at='2025-08-04T16:29:20.841633+00:00', parent_config={'configurable': {'thread_id': 'thread-1', 'checkpoint_ns': '', 'checkpoint_id': '1f071502-c9e8-6e33-bfff-8951b155bfbf'}}, tasks=(PregelTask(id='2da4cf15-cbe1-bd67-4fba-190ce0c217c0', name='create_joke', path=('__pregel_pull', 'create_joke'), error=None, interrupts=(), state=None, result={'joke': 'Why was the AI agent bad at hide-and-seek?  \\n\\nBecause it kept hiding in the cloud... and getting indexed.'}),), interrupts=()),\n",
       " StateSnapshot(values={}, next=('__start__',), config={'configurable': {'thread_id': 'thread-1', 'checkpoint_ns': '', 'checkpoint_id': '1f071502-c9e8-6e33-bfff-8951b155bfbf'}}, metadata={'source': 'input', 'writes': {'__start__': {'topic': 'AI agents'}}, 'step': -1, 'parents': {}, 'thread_id': 'thread-1'}, created_at='2025-08-04T16:29:20.839633+00:00', parent_config=None, tasks=(PregelTask(id='0a4eeaa1-04b3-32ec-c785-69383ccf5d28', name='__start__', path=('__pregel_pull', '__start__'), error=None, interrupts=(), state=None, result={'topic': 'AI agents'}),), interrupts=())]"
      ]
     },
     "execution_count": 38,
     "metadata": {},
     "output_type": "execute_result"
    }
   ],
   "source": [
    "\n",
    "list(workflow.get_state_history(config))"
   ]
  },
  {
   "cell_type": "code",
   "execution_count": 39,
   "id": "7cbeaf8c",
   "metadata": {},
   "outputs": [
    {
     "data": {
      "text/plain": [
       "{'topic': 'cricket',\n",
       " 'joke': 'Why did the cricket team bring a ladder to the match?\\n\\nBecause they wanted to get to the high scores!',\n",
       " 'explanation': 'The joke plays on the double meaning of \"high scores.\"\\n\\n* **Literal meaning:**  High scores refer to a large number of runs in a cricket match.  This is the expected meaning in the context of a cricket game.\\n\\n* **Figurative meaning:**  \"High scores\" can also refer to a high position or altitude, as in climbing a ladder to reach something high.\\n\\nThe humor comes from the unexpected and absurd literal interpretation of wanting to reach \"high scores\" by using a ladder.  It\\'s funny because it\\'s a nonsensical way to achieve high scores in a cricket game.'}"
      ]
     },
     "execution_count": 39,
     "metadata": {},
     "output_type": "execute_result"
    }
   ],
   "source": [
    "config1 = {'configurable':{'thread_id': 'thread-2'}}\n",
    "workflow.invoke({'topic':\"cricket\"},config=config1)"
   ]
  },
  {
   "cell_type": "code",
   "execution_count": 40,
   "id": "b9d83394",
   "metadata": {},
   "outputs": [
    {
     "data": {
      "text/plain": [
       "[StateSnapshot(values={'topic': 'cricket', 'joke': 'Why did the cricket team bring a ladder to the match?\\n\\nBecause they wanted to get to the high scores!', 'explanation': 'The joke plays on the double meaning of \"high scores.\"\\n\\n* **Literal meaning:**  High scores refer to a large number of runs in a cricket match.  This is the expected meaning in the context of a cricket game.\\n\\n* **Figurative meaning:**  \"High scores\" can also refer to a high position or altitude, as in climbing a ladder to reach something high.\\n\\nThe humor comes from the unexpected and absurd literal interpretation of wanting to reach \"high scores\" by using a ladder.  It\\'s funny because it\\'s a nonsensical way to achieve high scores in a cricket game.'}, next=(), config={'configurable': {'thread_id': 'thread-2', 'checkpoint_ns': '', 'checkpoint_id': '1f071520-6d5e-6962-8002-44c79c6ad938'}}, metadata={'source': 'loop', 'writes': {'explain': {'explanation': 'The joke plays on the double meaning of \"high scores.\"\\n\\n* **Literal meaning:**  High scores refer to a large number of runs in a cricket match.  This is the expected meaning in the context of a cricket game.\\n\\n* **Figurative meaning:**  \"High scores\" can also refer to a high position or altitude, as in climbing a ladder to reach something high.\\n\\nThe humor comes from the unexpected and absurd literal interpretation of wanting to reach \"high scores\" by using a ladder.  It\\'s funny because it\\'s a nonsensical way to achieve high scores in a cricket game.'}}, 'step': 2, 'parents': {}, 'thread_id': 'thread-2'}, created_at='2025-08-04T16:42:36.442454+00:00', parent_config={'configurable': {'thread_id': 'thread-2', 'checkpoint_ns': '', 'checkpoint_id': '1f071520-5eb7-6978-8001-6ac1c1de1565'}}, tasks=(), interrupts=()),\n",
       " StateSnapshot(values={'topic': 'cricket', 'joke': 'Why did the cricket team bring a ladder to the match?\\n\\nBecause they wanted to get to the high scores!'}, next=('explain',), config={'configurable': {'thread_id': 'thread-2', 'checkpoint_ns': '', 'checkpoint_id': '1f071520-5eb7-6978-8001-6ac1c1de1565'}}, metadata={'source': 'loop', 'writes': {'create_joke': {'joke': 'Why did the cricket team bring a ladder to the match?\\n\\nBecause they wanted to get to the high scores!'}}, 'step': 1, 'parents': {}, 'thread_id': 'thread-2'}, created_at='2025-08-04T16:42:34.906047+00:00', parent_config={'configurable': {'thread_id': 'thread-2', 'checkpoint_ns': '', 'checkpoint_id': '1f071520-4341-6f96-8000-15214421d6aa'}}, tasks=(PregelTask(id='dbb533d8-0f26-bb8e-9767-6afbd217b3b4', name='explain', path=('__pregel_pull', 'explain'), error=None, interrupts=(), state=None, result={'explanation': 'The joke plays on the double meaning of \"high scores.\"\\n\\n* **Literal meaning:**  High scores refer to a large number of runs in a cricket match.  This is the expected meaning in the context of a cricket game.\\n\\n* **Figurative meaning:**  \"High scores\" can also refer to a high position or altitude, as in climbing a ladder to reach something high.\\n\\nThe humor comes from the unexpected and absurd literal interpretation of wanting to reach \"high scores\" by using a ladder.  It\\'s funny because it\\'s a nonsensical way to achieve high scores in a cricket game.'}),), interrupts=()),\n",
       " StateSnapshot(values={'topic': 'cricket'}, next=('create_joke',), config={'configurable': {'thread_id': 'thread-2', 'checkpoint_ns': '', 'checkpoint_id': '1f071520-4341-6f96-8000-15214421d6aa'}}, metadata={'source': 'loop', 'writes': None, 'step': 0, 'parents': {}, 'thread_id': 'thread-2'}, created_at='2025-08-04T16:42:32.025748+00:00', parent_config={'configurable': {'thread_id': 'thread-2', 'checkpoint_ns': '', 'checkpoint_id': '1f071520-433a-6a95-bfff-0bd728bd9094'}}, tasks=(PregelTask(id='230bd49b-7233-f117-648b-fdc1b96e09ac', name='create_joke', path=('__pregel_pull', 'create_joke'), error=None, interrupts=(), state=None, result={'joke': 'Why did the cricket team bring a ladder to the match?\\n\\nBecause they wanted to get to the high scores!'}),), interrupts=()),\n",
       " StateSnapshot(values={}, next=('__start__',), config={'configurable': {'thread_id': 'thread-2', 'checkpoint_ns': '', 'checkpoint_id': '1f071520-433a-6a95-bfff-0bd728bd9094'}}, metadata={'source': 'input', 'writes': {'__start__': {'topic': 'cricket'}}, 'step': -1, 'parents': {}, 'thread_id': 'thread-2'}, created_at='2025-08-04T16:42:32.023720+00:00', parent_config=None, tasks=(PregelTask(id='e3875a91-0fc1-5963-fb07-20776a3b42d4', name='__start__', path=('__pregel_pull', '__start__'), error=None, interrupts=(), state=None, result={'topic': 'cricket'}),), interrupts=())]"
      ]
     },
     "execution_count": 40,
     "metadata": {},
     "output_type": "execute_result"
    }
   ],
   "source": [
    "list(workflow.get_state_history(config1))"
   ]
  },
  {
   "cell_type": "markdown",
   "id": "4b718176",
   "metadata": {},
   "source": [
    "Time Travel"
   ]
  },
  {
   "cell_type": "code",
   "execution_count": 41,
   "id": "32432847",
   "metadata": {},
   "outputs": [
    {
     "data": {
      "text/plain": [
       "StateSnapshot(values={'topic': 'AI agents', 'joke': 'Why was the AI agent bad at hide-and-seek?  \\n\\nBecause it kept hiding in the cloud... and getting indexed.', 'explanation': 'The joke plays on the dual meaning of \"cloud\" in the context of AI and computing.\\n\\n* **Cloud (literal):**  A cloud is a physical place where one might hide.\\n\\n* **Cloud (computing):** \"The cloud\" refers to the internet and data storage systems that are accessed remotely.  AI agents, especially large language models, rely heavily on cloud infrastructure.\\n\\nThe punchline, \"...and getting indexed,\" highlights the fact that anything stored in the cloud (in the computing sense) is easily searchable and discoverable.  So, while the AI agent thinks it\\'s cleverly hiding in a literal cloud, its presence is instantly revealed because its digital footprint is readily accessible through indexing services like Google Search.  The humor comes from the unexpected and ironic contrast between the literal act of hiding and the realities of cloud computing.'}, next=(), config={'configurable': {'thread_id': 'thread-1', 'checkpoint_ns': '', 'checkpoint_id': '1f071502-e63d-6db3-8002-a572cc47ac47'}}, metadata={'source': 'loop', 'writes': {'explain': {'explanation': 'The joke plays on the dual meaning of \"cloud\" in the context of AI and computing.\\n\\n* **Cloud (literal):**  A cloud is a physical place where one might hide.\\n\\n* **Cloud (computing):** \"The cloud\" refers to the internet and data storage systems that are accessed remotely.  AI agents, especially large language models, rely heavily on cloud infrastructure.\\n\\nThe punchline, \"...and getting indexed,\" highlights the fact that anything stored in the cloud (in the computing sense) is easily searchable and discoverable.  So, while the AI agent thinks it\\'s cleverly hiding in a literal cloud, its presence is instantly revealed because its digital footprint is readily accessible through indexing services like Google Search.  The humor comes from the unexpected and ironic contrast between the literal act of hiding and the realities of cloud computing.'}}, 'step': 2, 'parents': {}, 'thread_id': 'thread-1'}, created_at='2025-08-04T16:29:23.810449+00:00', parent_config={'configurable': {'thread_id': 'thread-1', 'checkpoint_ns': '', 'checkpoint_id': '1f071502-d1c8-67d7-8001-9c76521236b7'}}, tasks=(), interrupts=())"
      ]
     },
     "execution_count": 41,
     "metadata": {},
     "output_type": "execute_result"
    }
   ],
   "source": [
    "workflow.get_state({'configurable':{'thread_id':'thread-1','checkpointer':\"1f071520-4341-6f96-8000-15214421d6aa\"}})"
   ]
  }
 ],
 "metadata": {
  "kernelspec": {
   "display_name": "myenv",
   "language": "python",
   "name": "python3"
  },
  "language_info": {
   "codemirror_mode": {
    "name": "ipython",
    "version": 3
   },
   "file_extension": ".py",
   "mimetype": "text/x-python",
   "name": "python",
   "nbconvert_exporter": "python",
   "pygments_lexer": "ipython3",
   "version": "3.12.4"
  }
 },
 "nbformat": 4,
 "nbformat_minor": 5
}
