{
 "cells": [
  {
   "cell_type": "code",
   "execution_count": 39,
   "id": "17b85442",
   "metadata": {},
   "outputs": [],
   "source": [
    "from langgraph.graph import StateGraph, START, END\n",
    "from typing import TypedDict ,Annotated\n",
    "from dotenv import load_dotenv\n",
    "from langchain_google_genai import ChatGoogleGenerativeAI\n",
    "from langchain_core.prompts import PromptTemplate\n",
    "import operator\n",
    "from pydantic import BaseModel, Field\n"
   ]
  },
  {
   "cell_type": "code",
   "execution_count": 40,
   "id": "fb6de76a",
   "metadata": {},
   "outputs": [],
   "source": [
    "load_dotenv()\n",
    "model = ChatGoogleGenerativeAI(\n",
    "    model=\"gemini-1.5-flash\",\n",
    ")"
   ]
  },
  {
   "cell_type": "code",
   "execution_count": 41,
   "id": "ddefdf7a",
   "metadata": {},
   "outputs": [],
   "source": [
    "class EvaluateSchema(BaseModel):\n",
    "    feedback:str=Field(description=\"detailed feedback on the essay\")\n",
    "    score:int = Field(description=\"Score out of 10\",ge=0, le=10)\n"
   ]
  },
  {
   "cell_type": "code",
   "execution_count": 14,
   "id": "b54599a6",
   "metadata": {},
   "outputs": [],
   "source": [
    "structure_model = model.with_structured_output(EvaluateSchema)"
   ]
  },
  {
   "cell_type": "code",
   "execution_count": 27,
   "id": "5b056e66",
   "metadata": {},
   "outputs": [],
   "source": [
    "essay=\"\"\"Role of India in the AI World\n",
    "Introduction\n",
    "Artificial Intelligence (AI) has emerged as a transformative technology, shaping industries, economies, and societies worldwide. As the world enters an era of rapid technological change, India, with its vast talent pool and thriving technology ecosystem, is playing an increasingly influential role in the global AI landscape. India's participation in AI is not just limited to consumption but extends to innovation, research, policy-making, and ethical AI development.\n",
    "\n",
    "India Strength in AI Talent\n",
    "India is home to one of the largest pools of technology professionals in the world. With millions of skilled engineers, data scientists, and AI specialists, India has become a hub for AI development. The country produces thousands of graduates each year in computer science, machine learning, and AI-related fields from top institutions like the IITs, NITs, and IIITs. This abundant talent provides a strong foundation for India leadership in AI research and industrial application.\n",
    "\n",
    "Government Initiatives to Promote AI\n",
    "Recognizing AI's potential, the Government of India has launched several initiatives to make the country a global AI powerhouse. Programs like “National AI Mission”, “AI for All”, and “Responsible AI for Social Empowerment (RAISE)” aim to develop AI in a way that benefits all sections of society. NITI Aayog, India’s premier policy think tank, has been actively promoting AI to drive inclusive growth in key sectors such as healthcare, agriculture, education, smart mobility, and financial services.\n",
    "\n",
    "Start-up Ecosystem and Industry Participation\n",
    "India’s start-up ecosystem is booming, with many AI-focused startups emerging across sectors. From AI-powered healthcare diagnostics to precision agriculture, Indian startups are creating innovative solutions to local and global problems. Major Indian IT companies like Infosys, TCS, Wipro, and HCL are heavily investing in AI-based solutions and exporting AI services globally. Multinational companies have also set up AI research labs in India, making the country a global outsourcing destination for AI talent and services.\n",
    "\n",
    "AI for Social Good\n",
    "One of the most significant roles India plays in the AI world is its focus on AI for social good. India is leveraging AI to address fundamental challenges such as improving crop yields, predicting diseases, reducing traffic congestion, and making financial services accessible to underserved populations. The use of AI in governance, smart cities, and disaster management further highlights India’s commitment to using AI ethically and responsibly.\n",
    "\n",
    "Challenges and Opportunities\n",
    "Despite its potential, India faces challenges like limited infrastructure, data privacy concerns, and the need for upskilling a large workforce. However, these challenges also present opportunities. By focusing on inclusive AI education, building robust AI infrastructure, and promoting ethical AI usage, India can position itself as a global leader not just in AI innovation but also in AI governance.\n",
    "\n",
    "Conclusion\n",
    "India’s role in the AI world is rapidly evolving. From being a service provider to becoming an innovation leader, India is making significant contributions to the development and responsible use of AI. With the right investments, policy frameworks, and focus on human-centric AI, India has the potential to shape the future of AI globally, driving not just economic growth but also social welfare and equity.\"\"\""
   ]
  },
  {
   "cell_type": "code",
   "execution_count": 72,
   "id": "325ee53c",
   "metadata": {},
   "outputs": [],
   "source": [
    "class UPSEWorkflowState(TypedDict):\n",
    "    essay: str\n",
    "    language_feedback:str\n",
    "    analysis_feedback:str\n",
    "    clarity_feedback:str\n",
    "    evaluation_feedback:str\n",
    "    individual_score:Annotated[list[int] , operator.add ]\n",
    "    avg_score:float"
   ]
  },
  {
   "cell_type": "code",
   "execution_count": 73,
   "id": "8e74232f",
   "metadata": {},
   "outputs": [],
   "source": [
    "def evaluate_lang(state:UPSEWorkflowState):\n",
    "    prompt= f\"Evaluate the language quality of the folowing essay and provide detailed feedback and assign score out of 10:\\n\\n{essay}\"\n",
    "    output = structure_model.invoke(prompt)\n",
    "    return {\"language_feedback\": output.feedback, \"individual_score\": [output.score]}\n"
   ]
  },
  {
   "cell_type": "code",
   "execution_count": 74,
   "id": "5d7cddf7",
   "metadata": {},
   "outputs": [],
   "source": [
    "def evaluate_analysis(state:UPSEWorkflowState):\n",
    "    prompt= f\"Evaluate the depth of analysis of the folowing essay and provide detailed feedback and assign score out of 10:\\n\\n{essay}\"\n",
    "    output = structure_model.invoke(prompt)\n",
    "    return {\"analysis_feedback\": output.feedback, \"individual_score\": [output.score]}\n"
   ]
  },
  {
   "cell_type": "code",
   "execution_count": 75,
   "id": "9a94775d",
   "metadata": {},
   "outputs": [],
   "source": [
    "def evaluate_thought(state:UPSEWorkflowState):\n",
    "    prompt= f\"Evaluate the clarity of thought of the folowing essay and provide detailed feedback and assign score out of 10:\\n\\n{essay}\"\n",
    "    output = structure_model.invoke(prompt)\n",
    "    return {\"clarity_feedback\": output.feedback, \"individual_score\": [output.score]}\n"
   ]
  },
  {
   "cell_type": "code",
   "execution_count": 89,
   "id": "7c2e44a0",
   "metadata": {},
   "outputs": [],
   "source": [
    "def final_evaluation(state:UPSEWorkflowState):\n",
    "    total_score = sum(state['individual_score'])\n",
    "    average_score = total_score / len(state['individual_score']) \n",
    "    prompt = f\"Based on the following feedbacks create a summarized feedback:\\nLanguage Feedback: {state['language_feedback']}\\nAnalysis Feedback: {state['analysis_feedback']}\\nClarity Feedback: {state['clarity_feedback']}\\nAverage Score: {average_score:.2f}/10\"\n",
    "    output = model.invoke(prompt).content\n",
    "    return {\"evaluation_feedback\": output, \"avg_score\": average_score}"
   ]
  },
  {
   "cell_type": "code",
   "execution_count": 90,
   "id": "dcb1f18b",
   "metadata": {},
   "outputs": [],
   "source": [
    "graph = StateGraph(UPSEWorkflowState)\n",
    "\n",
    "graph.add_node(\"evaluate_lang\",evaluate_lang)\n",
    "graph.add_node(\"evaluate_analysis\",evaluate_analysis)\n",
    "graph.add_node(\"evaluate_thought\",evaluate_thought)\n",
    "graph.add_node(\"final_evaluation\",final_evaluation)\n",
    "\n",
    "graph.add_edge(START, \"evaluate_lang\")\n",
    "graph.add_edge(START,\"evaluate_analysis\")\n",
    "graph.add_edge(START,\"evaluate_thought\")\n",
    "graph.add_edge(\"evaluate_lang\", \"final_evaluation\")\n",
    "graph.add_edge(\"evaluate_analysis\", \"final_evaluation\")\n",
    "graph.add_edge(\"evaluate_thought\", \"final_evaluation\")\n",
    "graph.add_edge(\"final_evaluation\", END)\n",
    "\n",
    "\n",
    "UPES_WORKFLOW = graph.compile()\n"
   ]
  },
  {
   "cell_type": "code",
   "execution_count": 91,
   "id": "2d5f5dd3",
   "metadata": {},
   "outputs": [
    {
     "data": {
      "image/png": "[encoded data removed]",
      "text/plain": [
       "<langgraph.graph.state.CompiledStateGraph object at 0x0000019A250AC1A0>"
      ]
     },
     "execution_count": 91,
     "metadata": {},
     "output_type": "execute_result"
    }
   ],
   "source": [
    "UPES_WORKFLOW"
   ]
  },
  {
   "cell_type": "code",
   "execution_count": 92,
   "id": "f05f3b46",
   "metadata": {},
   "outputs": [
    {
     "data": {
      "text/plain": [
       "{'essay': \"Role of India in the AI World\\nIntroduction\\nArtificial Intelligence (AI) has emerged as a transformative technology, shaping industries, economies, and societies worldwide. As the world enters an era of rapid technological change, India, with its vast talent pool and thriving technology ecosystem, is playing an increasingly influential role in the global AI landscape. India's participation in AI is not just limited to consumption but extends to innovation, research, policy-making, and ethical AI development.\\n\\nIndia Strength in AI Talent\\nIndia is home to one of the largest pools of technology professionals in the world. With millions of skilled engineers, data scientists, and AI specialists, India has become a hub for AI development. The country produces thousands of graduates each year in computer science, machine learning, and AI-related fields from top institutions like the IITs, NITs, and IIITs. This abundant talent provides a strong foundation for India leadership in AI research and industrial application.\\n\\nGovernment Initiatives to Promote AI\\nRecognizing AI's potential, the Government of India has launched several initiatives to make the country a global AI powerhouse. Programs like “National AI Mission”, “AI for All”, and “Responsible AI for Social Empowerment (RAISE)” aim to develop AI in a way that benefits all sections of society. NITI Aayog, India’s premier policy think tank, has been actively promoting AI to drive inclusive growth in key sectors such as healthcare, agriculture, education, smart mobility, and financial services.\\n\\nStart-up Ecosystem and Industry Participation\\nIndia’s start-up ecosystem is booming, with many AI-focused startups emerging across sectors. From AI-powered healthcare diagnostics to precision agriculture, Indian startups are creating innovative solutions to local and global problems. Major Indian IT companies like Infosys, TCS, Wipro, and HCL are heavily investing in AI-based solutions and exporting AI services globally. Multinational companies have also set up AI research labs in India, making the country a global outsourcing destination for AI talent and services.\\n\\nAI for Social Good\\nOne of the most significant roles India plays in the AI world is its focus on AI for social good. India is leveraging AI to address fundamental challenges such as improving crop yields, predicting diseases, reducing traffic congestion, and making financial services accessible to underserved populations. The use of AI in governance, smart cities, and disaster management further highlights India’s commitment to using AI ethically and responsibly.\\n\\nChallenges and Opportunities\\nDespite its potential, India faces challenges like limited infrastructure, data privacy concerns, and the need for upskilling a large workforce. However, these challenges also present opportunities. By focusing on inclusive AI education, building robust AI infrastructure, and promoting ethical AI usage, India can position itself as a global leader not just in AI innovation but also in AI governance.\\n\\nConclusion\\nIndia’s role in the AI world is rapidly evolving. From being a service provider to becoming an innovation leader, India is making significant contributions to the development and responsible use of AI. With the right investments, policy frameworks, and focus on human-centric AI, India has the potential to shape the future of AI globally, driving not just economic growth but also social welfare and equity.\",\n",
       " 'language_feedback': \"The essay provides a good overview of India's role in the AI world, covering key aspects such as talent pool, government initiatives, startup ecosystem, and social impact.  The structure is logical and easy to follow.  However, the essay could benefit from stronger examples to support some of its claims. For instance, specific examples of successful AI startups or the impact of government initiatives would strengthen the argument.  Additionally, a deeper discussion of the challenges, beyond simply listing them, would add more depth.  The conclusion effectively summarizes the main points but could be more impactful with a forward-looking statement about India's potential to become a global AI leader.\",\n",
       " 'analysis_feedback': \"The essay provides a good overview of India's role in the AI world, covering key aspects such as its talent pool, government initiatives, startup ecosystem, and focus on AI for social good.  However, the analysis lacks depth in several areas.  For example, while it mentions government initiatives, it doesn't critically evaluate their effectiveness or impact. Similarly, the discussion of challenges is superficial, merely listing them without exploring their nuances or potential solutions in detail.  The essay also relies heavily on generalizations and lacks specific examples or case studies to support its claims.  To improve, the essay should delve deeper into specific programs, analyze their successes and failures, and provide concrete examples of AI applications in India.  A comparative analysis with other global AI leaders would also strengthen the analysis. \",\n",
       " 'clarity_feedback': \"The essay presents a well-structured and comprehensive overview of India's role in the AI world.  The introduction clearly sets the stage, and each subsequent section logically builds upon the previous one.  The discussion of India's strengths in AI talent, government initiatives, startup ecosystem, and AI for social good is thorough and provides specific examples. The inclusion of a section on challenges and opportunities demonstrates a balanced perspective.  The conclusion effectively summarizes the main points and offers a forward-looking perspective. While the essay is informative and well-organized, it could benefit from more in-depth analysis of specific AI applications and their impact.  For example, providing more detail on specific AI-powered healthcare diagnostics or precision agriculture solutions would enhance the essay's impact.  Additionally, expanding on the challenges section with concrete examples of infrastructure limitations or data privacy concerns would strengthen the argument.  The writing style is clear and concise, making the essay easy to follow.\",\n",
       " 'evaluation_feedback': \"The essay offers a good, well-structured overview of India's role in the AI landscape, covering key aspects such as talent, government initiatives, startups, and social impact.  However, it needs significant improvement in analytical depth.  While the essay presents a comprehensive list of strengths and challenges, it lacks concrete examples, in-depth analysis of government initiatives and their effectiveness, and a critical examination of challenges and potential solutions.  Adding specific case studies, comparative analysis with other AI leaders, and a more forward-looking conclusion would elevate the essay from a descriptive overview to a compelling analysis.  The writing is clear and concise, but the lack of supporting evidence significantly detracts from the overall quality.\",\n",
       " 'individual_score': [6, 7, 8],\n",
       " 'avg_score': 7.0}"
      ]
     },
     "execution_count": 92,
     "metadata": {},
     "output_type": "execute_result"
    }
   ],
   "source": [
    "initial_state ={\n",
    "    \"essay\": essay,\n",
    "    \"language_feedback\": \"\",\n",
    "    \"analysis_feedback\": \"\",\n",
    "    \"clarity_feedback\": \"\",\n",
    "    \"evaluation_feedback\": \"\",\n",
    "    \"individual_score\": [],\n",
    "    \"avg_score\": 0.0\n",
    "}\n",
    "result = UPES_WORKFLOW.invoke(initial_state)\n",
    "result"
   ]
  }
 ],
 "metadata": {
  "kernelspec": {
   "display_name": "myenv",
   "language": "python",
   "name": "python3"
  },
  "language_info": {
   "codemirror_mode": {
    "name": "ipython",
    "version": 3
   },
   "file_extension": ".py",
   "mimetype": "text/x-python",
   "name": "python",
   "nbconvert_exporter": "python",
   "pygments_lexer": "ipython3",
   "version": "3.12.4"
  }
 },
 "nbformat": 4,
 "nbformat_minor": 5
}
