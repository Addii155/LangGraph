{
 "cells": [
  {
   "cell_type": "code",
   "execution_count": null,
   "id": "cee31f6d",
   "metadata": {},
   "outputs": [],
   "source": [
    "from langgraph.graph import StateGraph, START, END\n",
    "from typing import TypedDict , Literal\n",
    "from langchain_google_genai import ChatGoogleGenerativeAI\n",
    "from dotenv import load_dotenv\n",
    "from pydantic import BaseModel , Field  \n",
    "\n"
   ]
  },
  {
   "cell_type": "code",
   "execution_count": null,
   "id": "27603b12",
   "metadata": {},
   "outputs": [],
   "source": [
    "load_dotenv()\n",
    "model = ChatGoogleGenerativeAI(\n",
    "    model=\"gemini-1.5-flash\",\n",
    ")"
   ]
  },
  {
   "cell_type": "code",
   "execution_count": null,
   "id": "f055721a",
   "metadata": {},
   "outputs": [],
   "source": [
    "class SentimentSchema(BaseModel):\n",
    "    sentiment: Literal[\"positive\", \"negative\"] = Field(description='Sentiment of the review')"
   ]
  },
  {
   "cell_type": "code",
   "execution_count": null,
   "id": "00b99b8a",
   "metadata": {},
   "outputs": [],
   "source": [
    "structured_model = model.with_structured_output(SentimentSchema)"
   ]
  },
  {
   "cell_type": "code",
   "execution_count": null,
   "id": "b621824a",
   "metadata": {},
   "outputs": [],
   "source": [
    "class ReviewState(TypedDict):\n",
    "    review: str\n",
    "    sentiment : Literal[\"positive\", \"negative\"] = Field(description=\"Sentiment of the review\")\n",
    "    response: str"
   ]
  },
  {
   "cell_type": "code",
   "execution_count": null,
   "id": "f36a4378",
   "metadata": {},
   "outputs": [],
   "source": [
    "def find_feedback(State: dict):\n",
    "    prompt = f\"Based on the review: {State['review']}, determine the sentiment (positive or negative). Provide only the sentiment.\"\n",
    "    response = structured_model.invoke(prompt)\n",
    "    sentiment = response.sentiment\n",
    "    return {\"sentiment\": sentiment}\n",
    "\n",
    "def positive_response(State: dict):\n",
    "    prompt = f\"Based on the review: {State['review']}, provide a friendly and appreciative response.\"\n",
    "    response = model.invoke(prompt)\n",
    "    return {\"response\": response}\n",
    "\n",
    "def negative_response(State: dict):\n",
    "    prompt = f\"Based on the review: {State['review']}, provide an apologetic response offering a solution.\"\n",
    "    response = model.invoke(prompt)\n",
    "    return {\"response\": response}\n",
    "\n",
    "def check_sentiment(State: dict) -> Literal[\"positive_response\", \"negative_response\"]:\n",
    "    if State['sentiment'] == \"positive\":\n",
    "        return \"positive_response\"\n",
    "    else:\n",
    "        return \"negative_response\"\n"
   ]
  },
  {
   "cell_type": "code",
   "execution_count": null,
   "id": "b92eab0d",
   "metadata": {},
   "outputs": [],
   "source": [
    "graph = StateGraph(ReviewState)\n",
    "graph.add_node(\"find_feedback\", find_feedback)\n",
    "graph.add_node(\"positive_response\", positive_response)\n",
    "graph.add_node(\"negative_response\", negative_response)\n",
    "\n",
    "graph.add_edge(START, \"find_feedback\")\n",
    "graph.add_conditional_edges(\"find_feedback\", check_sentiment)\n",
    "graph.add_edge(\"positive_response\", END)\n",
    "graph.add_edge(\"negative_response\", END)\n",
    "\n",
    "workflow = graph.compile()"
   ]
  },
  {
   "cell_type": "code",
   "execution_count": null,
   "id": "8ad13bee",
   "metadata": {},
   "outputs": [
    {
     "data": {
      "image/png": "[encoded data removed]",
      "text/plain": [
       "<langgraph.graph.state.CompiledStateGraph object at 0x000001FE2B2EC440>"
      ]
     },
     "execution_count": 57,
     "metadata": {},
     "output_type": "execute_result"
    }
   ],
   "source": [
    "workflow"
   ]
  },
  {
   "cell_type": "code",
   "execution_count": 61,
   "id": "f33b463f",
   "metadata": {},
   "outputs": [
    {
     "data": {
      "text/plain": [
       "{'review': 'I love the new features of this product! It has made my life so much easier.',\n",
       " 'sentiment': 'positive',\n",
       " 'response': AIMessage(content=\"That's fantastic to hear! We're so thrilled you're loving the new features and that they're making your life easier.  Thanks for sharing your positive feedback!\", additional_kwargs={}, response_metadata={'prompt_feedback': {'block_reason': 0, 'safety_ratings': []}, 'finish_reason': 'STOP', 'safety_ratings': []}, id='run--04ee828e-0846-4863-874b-7f44b83a2df7-0', usage_metadata={'input_tokens': 30, 'output_tokens': 38, 'total_tokens': 68, 'input_token_details': {'cache_read': 0}})}"
      ]
     },
     "execution_count": 61,
     "metadata": {},
     "output_type": "execute_result"
    }
   ],
   "source": [
    "intial_state = {\n",
    "    \"review\": \"I love the new features of this product! It has made my life so much easier.\",\n",
    "}\n",
    "result = workflow.invoke(intial_state)\n",
    "result"
   ]
  }
 ],
 "metadata": {
  "kernelspec": {
   "display_name": "myenv",
   "language": "python",
   "name": "python3"
  },
  "language_info": {
   "codemirror_mode": {
    "name": "ipython",
    "version": 3
   },
   "file_extension": ".py",
   "mimetype": "text/x-python",
   "name": "python",
   "nbconvert_exporter": "python",
   "pygments_lexer": "ipython3",
   "version": "3.12.4"
  }
 },
 "nbformat": 4,
 "nbformat_minor": 5
}
