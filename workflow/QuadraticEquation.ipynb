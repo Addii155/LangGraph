{
 "cells": [
  {
   "cell_type": "code",
   "execution_count": 14,
   "id": "4ff049dc",
   "metadata": {},
   "outputs": [],
   "source": [
    "from langgraph.graph import StateGraph , START, END\n",
    "from typing import TypedDict ,Literal\n"
   ]
  },
  {
   "cell_type": "code",
   "execution_count": 29,
   "id": "6dbe5ec1",
   "metadata": {},
   "outputs": [],
   "source": [
    "class State(TypedDict):\n",
    "    a : float\n",
    "    b : float\n",
    "    c : float \n",
    "    equation : str\n",
    "    roots : str\n",
    "    discriminant : float\n",
    "    result : str\n",
    "def equation(state: State):\n",
    "    equation = f\"{state['a']}x^2 + {state['b']}x + {state['c']} = 0\"\n",
    "    return {\"equation\": equation}\n",
    "\n",
    "def real_roots(state:State):\n",
    "\n",
    "    a= state['a']\n",
    "    b= state['b']\n",
    "    c= state['c']\n",
    "    d = state['discriminant']\n",
    "    root1= -b + d**.5 / (2*a)\n",
    "    root2= -b - d**.5 / (2*a)\n",
    "    roots = f\"Roots are {root1} and {root2}\"\n",
    "    return {\"roots\": roots}\n",
    "\n",
    "def repeated_roots(state:State):\n",
    "\n",
    "    root = - state['b'] / (2 * state['a'])\n",
    "    return {\"roots\": f\"Root is {root}\"}\n",
    "\n",
    "def no_real_roots(state:State):\n",
    "\n",
    "    result = \"No real roots\"\n",
    "    return {\"roots\": result}\n",
    "\n",
    "def check_roots(state: State) -> Literal[\"real_roots\", \"repeated_roots\", \"no_real_roots\"]:\n",
    "    d = state['discriminant']\n",
    "    if d > 0:\n",
    "        return \"real_roots\"\n",
    "    elif d == 0:\n",
    "        return \"repeated_roots\"\n",
    "    else:\n",
    "        return \"no_real_roots\"\n"
   ]
  },
  {
   "cell_type": "code",
   "execution_count": 27,
   "id": "961d7ab8",
   "metadata": {},
   "outputs": [],
   "source": [
    "graph = StateGraph(State)\n",
    "\n",
    "graph.add_node('find_equation', equation)\n",
    "graph.add_node(\"find_descriminant\", lambda state: {\"discriminant\": state['b']**2 - 4*state['a']*state['c']})\n",
    "graph.add_node(\"real_roots\", real_roots)\n",
    "graph.add_node(\"repeated_roots\", repeated_roots)\n",
    "graph.add_node(\"no_real_roots\", no_real_roots)\n",
    "\n",
    "graph.add_edge(START, 'find_equation')\n",
    "graph.add_edge('find_equation', 'find_descriminant')\n",
    "graph.add_conditional_edges('find_descriminant', check_roots)\n",
    "graph.add_edge('no_real_roots', END)\n",
    "graph.add_edge('repeated_roots', END)\n",
    "graph.add_edge('real_roots', END)\n",
    "\n",
    "\n",
    "workflow = graph.compile()"
   ]
  },
  {
   "cell_type": "code",
   "execution_count": 28,
   "id": "f06ee950",
   "metadata": {},
   "outputs": [
    {
     "data": {
      "image/png": "[encoded data removed]",
      "text/plain": [
       "<langgraph.graph.state.CompiledStateGraph object at 0x0000026505711BB0>"
      ]
     },
     "execution_count": 28,
     "metadata": {},
     "output_type": "execute_result"
    }
   ],
   "source": [
    "workflow\n"
   ]
  },
  {
   "cell_type": "code",
   "execution_count": 32,
   "id": "5d2d822b",
   "metadata": {},
   "outputs": [
    {
     "data": {
      "text/plain": [
       "{'a': 2,\n",
       " 'b': 1,\n",
       " 'c': 2,\n",
       " 'equation': '2x^2 + 1x + 2 = 0',\n",
       " 'roots': 'No real roots',\n",
       " 'discriminant': -15}"
      ]
     },
     "execution_count": 32,
     "metadata": {},
     "output_type": "execute_result"
    }
   ],
   "source": [
    "initia_state = {\n",
    "    \"a\": 2,\n",
    "    \"b\": 1,\n",
    "    \"c\": 2\n",
    "}\n",
    "result = workflow.invoke(initia_state)\n",
    "result"
   ]
  }
 ],
 "metadata": {
  "kernelspec": {
   "display_name": "myenv",
   "language": "python",
   "name": "python3"
  },
  "language_info": {
   "codemirror_mode": {
    "name": "ipython",
    "version": 3
   },
   "file_extension": ".py",
   "mimetype": "text/x-python",
   "name": "python",
   "nbconvert_exporter": "python",
   "pygments_lexer": "ipython3",
   "version": "3.12.4"
  }
 },
 "nbformat": 4,
 "nbformat_minor": 5
}
